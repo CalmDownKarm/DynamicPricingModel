{
 "cells": [
  {
   "cell_type": "code",
   "execution_count": 3,
   "metadata": {
    "collapsed": true
   },
   "outputs": [],
   "source": [
    "# %matplotlib inline\n",
    "import pandas as pd\n",
    "from fbprophet import Prophet\n",
    "import numpy as np\n",
    "from sklearn.metrics import mean_squared_error\n",
    "\n",
    "import matplotlib.pyplot as plt\n",
    "from matplotlib.pylab import rcParams\n",
    "rcParams['figure.figsize'] = 15, 6\n",
    "plt.style.use('fivethirtyeight')"
   ]
  },
  {
   "cell_type": "code",
   "execution_count": 4,
   "metadata": {},
   "outputs": [
    {
     "data": {
      "text/html": [
       "<div>\n",
       "<style>\n",
       "    .dataframe thead tr:only-child th {\n",
       "        text-align: right;\n",
       "    }\n",
       "\n",
       "    .dataframe thead th {\n",
       "        text-align: left;\n",
       "    }\n",
       "\n",
       "    .dataframe tbody tr th {\n",
       "        vertical-align: top;\n",
       "    }\n",
       "</style>\n",
       "<table border=\"1\" class=\"dataframe\">\n",
       "  <thead>\n",
       "    <tr style=\"text-align: right;\">\n",
       "      <th></th>\n",
       "      <th>InvoiceNo</th>\n",
       "      <th>StockCode</th>\n",
       "      <th>Description</th>\n",
       "      <th>Quantity</th>\n",
       "      <th>InvoiceDate</th>\n",
       "      <th>UnitPrice</th>\n",
       "      <th>CustomerID</th>\n",
       "      <th>Country</th>\n",
       "    </tr>\n",
       "  </thead>\n",
       "  <tbody>\n",
       "    <tr>\n",
       "      <th>0</th>\n",
       "      <td>536365</td>\n",
       "      <td>85123A</td>\n",
       "      <td>WHITE HANGING HEART T-LIGHT HOLDER</td>\n",
       "      <td>6</td>\n",
       "      <td>01/12/10 08:26</td>\n",
       "      <td>2.55</td>\n",
       "      <td>17850.0</td>\n",
       "      <td>United Kingdom</td>\n",
       "    </tr>\n",
       "    <tr>\n",
       "      <th>1</th>\n",
       "      <td>536365</td>\n",
       "      <td>71053</td>\n",
       "      <td>WHITE METAL LANTERN</td>\n",
       "      <td>6</td>\n",
       "      <td>01/12/10 08:26</td>\n",
       "      <td>3.39</td>\n",
       "      <td>17850.0</td>\n",
       "      <td>United Kingdom</td>\n",
       "    </tr>\n",
       "    <tr>\n",
       "      <th>2</th>\n",
       "      <td>536365</td>\n",
       "      <td>84406B</td>\n",
       "      <td>CREAM CUPID HEARTS COAT HANGER</td>\n",
       "      <td>8</td>\n",
       "      <td>01/12/10 08:26</td>\n",
       "      <td>2.75</td>\n",
       "      <td>17850.0</td>\n",
       "      <td>United Kingdom</td>\n",
       "    </tr>\n",
       "    <tr>\n",
       "      <th>3</th>\n",
       "      <td>536365</td>\n",
       "      <td>84029G</td>\n",
       "      <td>KNITTED UNION FLAG HOT WATER BOTTLE</td>\n",
       "      <td>6</td>\n",
       "      <td>01/12/10 08:26</td>\n",
       "      <td>3.39</td>\n",
       "      <td>17850.0</td>\n",
       "      <td>United Kingdom</td>\n",
       "    </tr>\n",
       "    <tr>\n",
       "      <th>4</th>\n",
       "      <td>536365</td>\n",
       "      <td>84029E</td>\n",
       "      <td>RED WOOLLY HOTTIE WHITE HEART.</td>\n",
       "      <td>6</td>\n",
       "      <td>01/12/10 08:26</td>\n",
       "      <td>3.39</td>\n",
       "      <td>17850.0</td>\n",
       "      <td>United Kingdom</td>\n",
       "    </tr>\n",
       "  </tbody>\n",
       "</table>\n",
       "</div>"
      ],
      "text/plain": [
       "  InvoiceNo StockCode                          Description  Quantity  \\\n",
       "0    536365    85123A   WHITE HANGING HEART T-LIGHT HOLDER         6   \n",
       "1    536365     71053                  WHITE METAL LANTERN         6   \n",
       "2    536365    84406B       CREAM CUPID HEARTS COAT HANGER         8   \n",
       "3    536365    84029G  KNITTED UNION FLAG HOT WATER BOTTLE         6   \n",
       "4    536365    84029E       RED WOOLLY HOTTIE WHITE HEART.         6   \n",
       "\n",
       "      InvoiceDate  UnitPrice  CustomerID         Country  \n",
       "0  01/12/10 08:26       2.55     17850.0  United Kingdom  \n",
       "1  01/12/10 08:26       3.39     17850.0  United Kingdom  \n",
       "2  01/12/10 08:26       2.75     17850.0  United Kingdom  \n",
       "3  01/12/10 08:26       3.39     17850.0  United Kingdom  \n",
       "4  01/12/10 08:26       3.39     17850.0  United Kingdom  "
      ]
     },
     "execution_count": 4,
     "metadata": {},
     "output_type": "execute_result"
    }
   ],
   "source": [
    "raw_data = pd.read_csv(\"Online_Retail.csv\")\n",
    "raw_data.head()"
   ]
  },
  {
   "cell_type": "code",
   "execution_count": 5,
   "metadata": {},
   "outputs": [
    {
     "name": "stdout",
     "output_type": "stream",
     "text": [
      "<class 'pandas.core.frame.DataFrame'>\n",
      "RangeIndex: 541909 entries, 0 to 541908\n",
      "Data columns (total 3 columns):\n",
      "StockCode      541909 non-null object\n",
      "Quantity       541909 non-null int64\n",
      "InvoiceDate    541909 non-null datetime64[ns]\n",
      "dtypes: datetime64[ns](1), int64(1), object(1)\n",
      "memory usage: 12.4+ MB\n",
      "None\n"
     ]
    },
    {
     "data": {
      "text/plain": [
       "RangeIndex(start=0, stop=541909, step=1)"
      ]
     },
     "execution_count": 5,
     "metadata": {},
     "output_type": "execute_result"
    }
   ],
   "source": [
    "sales_data = raw_data.drop(['InvoiceNo','Description','CustomerID','Country','UnitPrice'], axis = 1)\n",
    "sales_data['InvoiceDate'] = pd.to_datetime(sales_data['InvoiceDate'])\n",
    "print(sales_data.info())\n",
    "sales_data.index"
   ]
  },
  {
   "cell_type": "code",
   "execution_count": 6,
   "metadata": {
    "collapsed": true
   },
   "outputs": [],
   "source": [
    "stock_codes = list(sales_data.StockCode.unique())"
   ]
  },
  {
   "cell_type": "code",
   "execution_count": 7,
   "metadata": {
    "collapsed": true
   },
   "outputs": [],
   "source": [
    "def extract_product(product_id,freq):\n",
    "    #pull out all transactions of one product and drop StockCode\n",
    "    product = sales_data.loc[sales_data['StockCode'] == product_id].drop('StockCode',axis=1)\n",
    "    product=product.set_index(['InvoiceDate']) #Convert to timeseries \n",
    "\n",
    "    #DownSampling to a day\n",
    "    day_summary = pd.DataFrame()\n",
    "    day_summary['Quantity'] = product.Quantity.resample(freq).sum()\n",
    "    day_summary = day_summary.fillna(0) #replacing NaN with 0\n",
    "    day_summary = day_summary.clip(0) #replace -ve values with 0\n",
    "\n",
    "    day_summary = day_summary['2010-12-12':]#trim as almost no data available before this date\n",
    "    day_summary['Quantity']+=1#ti avoid -inf while taking log transformation \n",
    "#     print(day_summary.describe())\n",
    "    #plot\n",
    "#     fig, ax1 = plt.subplots()\n",
    "#     ax1.plot(day_summary.index, day_summary['Quantity'])\n",
    "#     ax1.set_xlabel('Date')\n",
    "#     ax1.set_ylabel('Quantity')\n",
    "#     # ax1.set_ylim(0,100)\n",
    "#     plt.show()\n",
    "    return day_summary"
   ]
  },
  {
   "cell_type": "code",
   "execution_count": 101,
   "metadata": {
    "collapsed": true
   },
   "outputs": [],
   "source": [
    "def result_analysis(errors):\n",
    "    errors = [value[1] for value in errors]\n",
    "    None_count = errors.count(None)\n",
    "    errors = [x for x in errors if x!=None]\n",
    "    min_value = min(errors)\n",
    "    max_value = max(errors)\n",
    "    avg_value = sum(errors)/len(errors)\n",
    "    print(\"min value = \"+str(min_value))\n",
    "    print(\"max value = \"+str(max_value))\n",
    "    print(\"avg value = \"+str(avg_value))\n",
    "    print(\"none count = \"+str(None_count))"
   ]
  },
  {
   "cell_type": "code",
   "execution_count": 110,
   "metadata": {
    "collapsed": true
   },
   "outputs": [],
   "source": [
    "def get_rmse_relative_error(y,yhat):\n",
    "    relative_errors = [(x-y)/x for x,y in zip(y,yhat)]\n",
    "    root_mean_square_relative_error = np.sqrt(sum([x**2 for x in relative_errors])/len(relative_errors))\n",
    "    return root_mean_square_relative_error"
   ]
  },
  {
   "cell_type": "code",
   "execution_count": 120,
   "metadata": {},
   "outputs": [],
   "source": [
    "def get_mean_relative_error(y,yhat):\n",
    "    relative_error = [abs((x-y)/x) for x,y in zip(y,yhat)]\n",
    "    mean_relative_error = sum(relative_error)/len(relative_error)\n",
    "    return mean_relative_error"
   ]
  },
  {
   "cell_type": "code",
   "execution_count": 124,
   "metadata": {},
   "outputs": [
    {
     "name": "stdout",
     "output_type": "stream",
     "text": [
      " 543"
     ]
    },
    {
     "name": "stderr",
     "output_type": "stream",
     "text": [
      "INFO:fbprophet.forecaster:n_changepoints greater than number of observations.Using 1.0.\n"
     ]
    },
    {
     "name": "stdout",
     "output_type": "stream",
     "text": [
      " 552"
     ]
    },
    {
     "name": "stderr",
     "output_type": "stream",
     "text": [
      "INFO:fbprophet.forecaster:n_changepoints greater than number of observations.Using 15.0.\n"
     ]
    },
    {
     "name": "stdout",
     "output_type": "stream",
     "text": [
      " 978"
     ]
    },
    {
     "name": "stderr",
     "output_type": "stream",
     "text": [
      "INFO:fbprophet.forecaster:n_changepoints greater than number of observations.Using 1.0.\n"
     ]
    },
    {
     "name": "stdout",
     "output_type": "stream",
     "text": [
      " 1647"
     ]
    },
    {
     "name": "stderr",
     "output_type": "stream",
     "text": [
      "INFO:fbprophet.forecaster:n_changepoints greater than number of observations.Using 6.0.\n"
     ]
    },
    {
     "name": "stdout",
     "output_type": "stream",
     "text": [
      " 1658"
     ]
    },
    {
     "name": "stderr",
     "output_type": "stream",
     "text": [
      "INFO:fbprophet.forecaster:n_changepoints greater than number of observations.Using 6.0.\n"
     ]
    },
    {
     "name": "stdout",
     "output_type": "stream",
     "text": [
      " 1660"
     ]
    },
    {
     "name": "stderr",
     "output_type": "stream",
     "text": [
      "INFO:fbprophet.forecaster:n_changepoints greater than number of observations.Using 0.0.\n"
     ]
    },
    {
     "name": "stdout",
     "output_type": "stream",
     "text": [
      " 1756"
     ]
    },
    {
     "name": "stderr",
     "output_type": "stream",
     "text": [
      "INFO:fbprophet.forecaster:n_changepoints greater than number of observations.Using 23.0.\n"
     ]
    },
    {
     "name": "stdout",
     "output_type": "stream",
     "text": [
      " 1845"
     ]
    },
    {
     "name": "stderr",
     "output_type": "stream",
     "text": [
      "INFO:fbprophet.forecaster:n_changepoints greater than number of observations.Using 6.0.\n"
     ]
    },
    {
     "name": "stdout",
     "output_type": "stream",
     "text": [
      " 2024"
     ]
    },
    {
     "name": "stderr",
     "output_type": "stream",
     "text": [
      "INFO:fbprophet.forecaster:n_changepoints greater than number of observations.Using 7.0.\n"
     ]
    },
    {
     "name": "stdout",
     "output_type": "stream",
     "text": [
      " 2162"
     ]
    },
    {
     "name": "stderr",
     "output_type": "stream",
     "text": [
      "INFO:fbprophet.forecaster:n_changepoints greater than number of observations.Using 1.0.\n"
     ]
    },
    {
     "name": "stdout",
     "output_type": "stream",
     "text": [
      " 2296"
     ]
    },
    {
     "name": "stderr",
     "output_type": "stream",
     "text": [
      "INFO:fbprophet.forecaster:n_changepoints greater than number of observations.Using 6.0.\n"
     ]
    },
    {
     "name": "stdout",
     "output_type": "stream",
     "text": [
      " 2441"
     ]
    },
    {
     "name": "stderr",
     "output_type": "stream",
     "text": [
      "INFO:fbprophet.forecaster:n_changepoints greater than number of observations.Using 5.0.\n"
     ]
    },
    {
     "name": "stdout",
     "output_type": "stream",
     "text": [
      " 2456"
     ]
    },
    {
     "name": "stderr",
     "output_type": "stream",
     "text": [
      "INFO:fbprophet.forecaster:n_changepoints greater than number of observations.Using 0.0.\n"
     ]
    },
    {
     "name": "stdout",
     "output_type": "stream",
     "text": [
      "\r",
      " 2457\r",
      " 2458"
     ]
    },
    {
     "name": "stderr",
     "output_type": "stream",
     "text": [
      "INFO:fbprophet.forecaster:n_changepoints greater than number of observations.Using 4.0.\n"
     ]
    },
    {
     "name": "stdout",
     "output_type": "stream",
     "text": [
      "\r",
      " 2459\r",
      " 2460\r",
      " 2461"
     ]
    },
    {
     "name": "stderr",
     "output_type": "stream",
     "text": [
      "INFO:fbprophet.forecaster:n_changepoints greater than number of observations.Using 1.0.\n"
     ]
    },
    {
     "name": "stdout",
     "output_type": "stream",
     "text": [
      " 2476"
     ]
    },
    {
     "name": "stderr",
     "output_type": "stream",
     "text": [
      "INFO:fbprophet.forecaster:n_changepoints greater than number of observations.Using 6.0.\n"
     ]
    },
    {
     "name": "stdout",
     "output_type": "stream",
     "text": [
      " 2705"
     ]
    },
    {
     "name": "stderr",
     "output_type": "stream",
     "text": [
      "INFO:fbprophet.forecaster:n_changepoints greater than number of observations.Using 2.0.\n"
     ]
    },
    {
     "name": "stdout",
     "output_type": "stream",
     "text": [
      " 2755"
     ]
    },
    {
     "name": "stderr",
     "output_type": "stream",
     "text": [
      "INFO:fbprophet.forecaster:n_changepoints greater than number of observations.Using 1.0.\n"
     ]
    },
    {
     "name": "stdout",
     "output_type": "stream",
     "text": [
      " 2817"
     ]
    },
    {
     "name": "stderr",
     "output_type": "stream",
     "text": [
      "INFO:fbprophet.forecaster:n_changepoints greater than number of observations.Using 23.0.\n"
     ]
    },
    {
     "name": "stdout",
     "output_type": "stream",
     "text": [
      " 2846"
     ]
    },
    {
     "name": "stderr",
     "output_type": "stream",
     "text": [
      "INFO:fbprophet.forecaster:n_changepoints greater than number of observations.Using 21.0.\n"
     ]
    },
    {
     "name": "stdout",
     "output_type": "stream",
     "text": [
      " 2848"
     ]
    },
    {
     "name": "stderr",
     "output_type": "stream",
     "text": [
      "INFO:fbprophet.forecaster:n_changepoints greater than number of observations.Using 23.0.\n"
     ]
    },
    {
     "name": "stdout",
     "output_type": "stream",
     "text": [
      " 2885"
     ]
    },
    {
     "name": "stderr",
     "output_type": "stream",
     "text": [
      "INFO:fbprophet.forecaster:n_changepoints greater than number of observations.Using 22.0.\n",
      "INFO:fbprophet.forecaster:n_changepoints greater than number of observations.Using 22.0.\n"
     ]
    },
    {
     "name": "stdout",
     "output_type": "stream",
     "text": [
      " 2919"
     ]
    },
    {
     "name": "stderr",
     "output_type": "stream",
     "text": [
      "INFO:fbprophet.forecaster:n_changepoints greater than number of observations.Using 4.0.\n"
     ]
    },
    {
     "name": "stdout",
     "output_type": "stream",
     "text": [
      " 2988"
     ]
    },
    {
     "name": "stderr",
     "output_type": "stream",
     "text": [
      "INFO:fbprophet.forecaster:n_changepoints greater than number of observations.Using 0.0.\n"
     ]
    },
    {
     "name": "stdout",
     "output_type": "stream",
     "text": [
      " 3049"
     ]
    },
    {
     "name": "stderr",
     "output_type": "stream",
     "text": [
      "INFO:fbprophet.forecaster:n_changepoints greater than number of observations.Using 20.0.\n"
     ]
    },
    {
     "name": "stdout",
     "output_type": "stream",
     "text": [
      " 3144"
     ]
    },
    {
     "name": "stderr",
     "output_type": "stream",
     "text": [
      "INFO:fbprophet.forecaster:n_changepoints greater than number of observations.Using 6.0.\n"
     ]
    },
    {
     "name": "stdout",
     "output_type": "stream",
     "text": [
      " 3213"
     ]
    },
    {
     "name": "stderr",
     "output_type": "stream",
     "text": [
      "INFO:fbprophet.forecaster:n_changepoints greater than number of observations.Using 5.0.\n"
     ]
    },
    {
     "name": "stdout",
     "output_type": "stream",
     "text": [
      " 3226"
     ]
    },
    {
     "name": "stderr",
     "output_type": "stream",
     "text": [
      "INFO:fbprophet.forecaster:n_changepoints greater than number of observations.Using 16.0.\n"
     ]
    },
    {
     "name": "stdout",
     "output_type": "stream",
     "text": [
      " 3235"
     ]
    },
    {
     "name": "stderr",
     "output_type": "stream",
     "text": [
      "INFO:fbprophet.forecaster:n_changepoints greater than number of observations.Using 3.0.\n"
     ]
    },
    {
     "name": "stdout",
     "output_type": "stream",
     "text": [
      " 33143309"
     ]
    },
    {
     "name": "stderr",
     "output_type": "stream",
     "text": [
      "INFO:fbprophet.forecaster:n_changepoints greater than number of observations.Using 3.0.\n"
     ]
    },
    {
     "name": "stdout",
     "output_type": "stream",
     "text": [
      " 3317"
     ]
    },
    {
     "name": "stderr",
     "output_type": "stream",
     "text": [
      "INFO:fbprophet.forecaster:n_changepoints greater than number of observations.Using 16.0.\n"
     ]
    },
    {
     "name": "stdout",
     "output_type": "stream",
     "text": [
      " 3333"
     ]
    },
    {
     "name": "stderr",
     "output_type": "stream",
     "text": [
      "INFO:fbprophet.forecaster:n_changepoints greater than number of observations.Using 1.0.\n"
     ]
    },
    {
     "name": "stdout",
     "output_type": "stream",
     "text": [
      " 3349"
     ]
    },
    {
     "name": "stderr",
     "output_type": "stream",
     "text": [
      "INFO:fbprophet.forecaster:n_changepoints greater than number of observations.Using 0.0.\n"
     ]
    },
    {
     "name": "stdout",
     "output_type": "stream",
     "text": [
      " 3489"
     ]
    },
    {
     "name": "stderr",
     "output_type": "stream",
     "text": [
      "INFO:fbprophet.forecaster:n_changepoints greater than number of observations.Using 5.0.\n"
     ]
    },
    {
     "name": "stdout",
     "output_type": "stream",
     "text": [
      " 3597"
     ]
    },
    {
     "name": "stderr",
     "output_type": "stream",
     "text": [
      "INFO:fbprophet.forecaster:n_changepoints greater than number of observations.Using 2.0.\n"
     ]
    },
    {
     "name": "stdout",
     "output_type": "stream",
     "text": [
      " 3626"
     ]
    },
    {
     "name": "stderr",
     "output_type": "stream",
     "text": [
      "INFO:fbprophet.forecaster:n_changepoints greater than number of observations.Using 6.0.\n"
     ]
    },
    {
     "name": "stdout",
     "output_type": "stream",
     "text": [
      " 3635"
     ]
    },
    {
     "name": "stderr",
     "output_type": "stream",
     "text": [
      "INFO:fbprophet.forecaster:n_changepoints greater than number of observations.Using 19.0.\n"
     ]
    },
    {
     "name": "stdout",
     "output_type": "stream",
     "text": [
      " 3679"
     ]
    },
    {
     "name": "stderr",
     "output_type": "stream",
     "text": [
      "INFO:fbprophet.forecaster:n_changepoints greater than number of observations.Using 11.0.\n"
     ]
    },
    {
     "name": "stdout",
     "output_type": "stream",
     "text": [
      "\r",
      " 3680"
     ]
    },
    {
     "name": "stderr",
     "output_type": "stream",
     "text": [
      "INFO:fbprophet.forecaster:n_changepoints greater than number of observations.Using 5.0.\n"
     ]
    },
    {
     "name": "stdout",
     "output_type": "stream",
     "text": [
      " 3695"
     ]
    },
    {
     "name": "stderr",
     "output_type": "stream",
     "text": [
      "INFO:fbprophet.forecaster:n_changepoints greater than number of observations.Using 0.0.\n"
     ]
    },
    {
     "name": "stdout",
     "output_type": "stream",
     "text": [
      " 3698"
     ]
    },
    {
     "name": "stderr",
     "output_type": "stream",
     "text": [
      "INFO:fbprophet.forecaster:n_changepoints greater than number of observations.Using 20.0.\n"
     ]
    },
    {
     "name": "stdout",
     "output_type": "stream",
     "text": [
      "\r",
      " 3699"
     ]
    },
    {
     "name": "stderr",
     "output_type": "stream",
     "text": [
      "INFO:fbprophet.forecaster:n_changepoints greater than number of observations.Using 20.0.\n"
     ]
    },
    {
     "name": "stdout",
     "output_type": "stream",
     "text": [
      " 3755"
     ]
    },
    {
     "name": "stderr",
     "output_type": "stream",
     "text": [
      "INFO:fbprophet.forecaster:n_changepoints greater than number of observations.Using 15.0.\n"
     ]
    },
    {
     "name": "stdout",
     "output_type": "stream",
     "text": [
      " 3958"
     ]
    },
    {
     "name": "stderr",
     "output_type": "stream",
     "text": [
      "INFO:fbprophet.forecaster:n_changepoints greater than number of observations.Using 20.0.\n"
     ]
    },
    {
     "name": "stdout",
     "output_type": "stream",
     "text": [
      " 4002"
     ]
    },
    {
     "name": "stderr",
     "output_type": "stream",
     "text": [
      "INFO:fbprophet.forecaster:n_changepoints greater than number of observations.Using 14.0.\n"
     ]
    },
    {
     "name": "stdout",
     "output_type": "stream",
     "text": [
      " 4033"
     ]
    },
    {
     "name": "stderr",
     "output_type": "stream",
     "text": [
      "INFO:fbprophet.forecaster:n_changepoints greater than number of observations.Using 9.0.\n"
     ]
    },
    {
     "name": "stdout",
     "output_type": "stream",
     "text": [
      " 4038"
     ]
    },
    {
     "name": "stderr",
     "output_type": "stream",
     "text": [
      "INFO:fbprophet.forecaster:n_changepoints greater than number of observations.Using 6.0.\n"
     ]
    },
    {
     "name": "stdout",
     "output_type": "stream",
     "text": [
      " 4070"
     ]
    }
   ],
   "source": [
    "errors = list()\n",
    "count =1 \n",
    "for product in stock_codes:\n",
    "    print('\\r', count, end='')\n",
    "    count+=1\n",
    "    freq = 'D'\n",
    "    try:\n",
    "        day_summary = extract_product(product,freq)\n",
    "        # day_summary.head()\n",
    "        day_summary.reset_index(inplace=True)\n",
    "        day_summary = day_summary.rename(columns={'Quantity': 'y','InvoiceDate': 'ds'})\n",
    "        train,test = day_summary[:int(len(day_summary)*0.9)],day_summary[int(len(day_summary)*0.9):]\n",
    "#         print((len(train),len(test),len(day_summary)))\n",
    "        my_model = Prophet(daily_seasonality=True,yearly_seasonality=True,weekly_seasonality=True)\n",
    "        my_model.fit(train)\n",
    "        future_dates = my_model.make_future_dataframe(periods=len(test),freq=freq)\n",
    "        forecast = my_model.predict(future_dates)\n",
    "        predicted = forecast[['ds', 'yhat']].tail(len(test))\n",
    "#         errors.append((product,get_rmse_relative_error(test.y,predicted.yhat)))\n",
    "        errors.append((product,get_mean_relative_error(test.y,predicted.yhat)))\n",
    "\n",
    "    except:\n",
    "        errors.append((product,None))\n",
    "#     print(np.sqrt(mean_squared_error(test.y,predicted.yhat)))\n",
    "#     my_model.plot(forecast,uncertainty=True);\n",
    "#     my_model.plot_components(forecast);\n",
    "    \n",
    "# result_analysis(errors)\n",
    "with open(\"result.txt\", 'w') as file:\n",
    "    for item in errors:\n",
    "        file.write(\"{}\\n\".format(item))\n"
   ]
  },
  {
   "cell_type": "code",
   "execution_count": 125,
   "metadata": {},
   "outputs": [
    {
     "data": {
      "text/plain": [
       "[('85123A', 305.98983086560651),\n",
       " ('71053', 1.8158211855338162),\n",
       " ('84406B', 1.3082517082733069),\n",
       " ('84029G', 6.1864034603950788),\n",
       " ('84029E', 35.608458176860609),\n",
       " ('22752', 1.8357867287315877),\n",
       " ('21730', 2.4132165249652093),\n",
       " ('22633', 15.338359689862269),\n",
       " ('22632', 6.4682133591199156),\n",
       " ('84879', 33.583701244902819),\n",
       " ('22745', 2.4187231738130279),\n",
       " ('22748', 1.4486722249802289),\n",
       " ('22749', 2.0643247696170151),\n",
       " ('22310', 5.263886104380612),\n",
       " ('84969', 0.67054886007828074),\n",
       " ('22623', 4.8463696535127854),\n",
       " ('22622', 4.1098231242494903),\n",
       " ('21754', 1.7702941850117504),\n",
       " ('21755', 3.5092438723579416),\n",
       " ('21777', None),\n",
       " ('48187', 3.222096995951325),\n",
       " ('22960', 10.200446498536195),\n",
       " ('22913', 2.5991527815447659),\n",
       " ('22912', 4.7862626732888032),\n",
       " ('22914', 12.045986555203628),\n",
       " ('21756', 11.031126509078778),\n",
       " ('22728', 23.030000675903391),\n",
       " ('22727', 29.278203096330468),\n",
       " ('22726', 5.1860308004281075),\n",
       " ('21724', 1.0327554168007793),\n",
       " ('21883', 8.1892880613958852),\n",
       " ('10002', 2.0079417936438775),\n",
       " ('21791', 2.4614041694466948),\n",
       " ('21035', 1.7173231135835698),\n",
       " ('22326', 18.289370983468082),\n",
       " ('22629', 11.114419566896975),\n",
       " ('22659', 6.3148591401164582),\n",
       " ('22631', 4.34905710019203),\n",
       " ('22661', 8.3604768243629657),\n",
       " ('21731', 14.620668474575888),\n",
       " ('22900', 6.540846326064484),\n",
       " ('21913', 0.78884049309573978),\n",
       " ('22540', 30.179553331949542),\n",
       " ('22544', 5.2894818677384912),\n",
       " ('22492', 16.233970726396876),\n",
       " ('POST', 99.454662147095377),\n",
       " ('22086', 23.119732849640862),\n",
       " ('20679', 13.539920833918412),\n",
       " ('37370', 5.3957554619716346),\n",
       " ('21871', 6.2322694181948561),\n",
       " ('21071', 2.8941269531635698),\n",
       " ('21068', 2.7180130966417635),\n",
       " ('82483', 11.43334968146957),\n",
       " ('82486', 1.8531543057821194),\n",
       " ('82482', 6.1041964201051924),\n",
       " ('82494L', 8.1468323917527083),\n",
       " ('21258', 2.532110957939401),\n",
       " ('22114', 28.363939753070738),\n",
       " ('21733', 61.873676866614545),\n",
       " ('22386', 8.8026584282321121),\n",
       " ('85099C', 5.3806685678883994),\n",
       " ('21033', 5.6557982630406034),\n",
       " ('20723', 17.126393695042978),\n",
       " ('84997B', 6.2052754007034228),\n",
       " ('84997C', 33.388639718833417),\n",
       " ('21094', 28.402630394013713),\n",
       " ('20725', 7.6612737131088613),\n",
       " ('21559', 8.1894014243726314),\n",
       " ('22352', 3.8202429032858216),\n",
       " ('21212', 19.869825649396279),\n",
       " ('21975', 45.424639105183203),\n",
       " ('21977', 6.914255269345718),\n",
       " ('84991', 20.365627851871178),\n",
       " ('84519A', 7.7704785045101117),\n",
       " ('85183B', 2.322299056245035),\n",
       " ('85071B', 1.6430604240861804),\n",
       " ('21931', 7.5768055393932183),\n",
       " ('21929', 9.3068231909629784),\n",
       " ('22961', 29.870931045058182),\n",
       " ('22139', 5.7775636132624859),\n",
       " ('84854', 0.0),\n",
       " ('22411', 4.7862314514088995),\n",
       " ('82567', 0.81809526147989087),\n",
       " ('21672', 10.159517602186067),\n",
       " ('22774', 59.525587835920966),\n",
       " ('22771', 18.6280215601547),\n",
       " ('71270', 0.44062768468513602),\n",
       " ('22262', 1.694682613121796),\n",
       " ('22637', 5.0956532306439311),\n",
       " ('21934', 2.3371429545048157),\n",
       " ('21169', 2.909138663977378),\n",
       " ('21166', 24.01734109686403),\n",
       " ('21175', 142.0677131029764),\n",
       " ('37444A', 0.20525776882274691),\n",
       " ('37444C', 0.69642886276911686),\n",
       " ('22083', 5.4276815103239802),\n",
       " ('84971S', 1.8084018434141094),\n",
       " ('47580', 3.2202780946525196),\n",
       " ('22261', 0.87847642481836519),\n",
       " ('84832', 24.174872433990515),\n",
       " ('22644', 2.5538078831330067),\n",
       " ('21533', 11.109259832955821),\n",
       " ('21557', 2.0417033983628712),\n",
       " ('15056BL', 18.818096737133573),\n",
       " ('15056N', 8.8468158941290191),\n",
       " ('22646', 3.7232050263232144),\n",
       " ('22176', 8.4214274032182601),\n",
       " ('22438', 1.8695521533435011),\n",
       " ('22778', 2.4271654890120047),\n",
       " ('22719', 2.931085732160676),\n",
       " ('21523', 4.840315856330581),\n",
       " ('D', 0.0),\n",
       " ('21912', 2.8422573414095158),\n",
       " ('21832', 1.7265039627676799),\n",
       " ('22379', 3.4361720227315757),\n",
       " ('22381', 4.0737359560774573),\n",
       " ('22798', 1.5570162200707323),\n",
       " ('22926', 1.8020899019350824),\n",
       " ('22839', 1.4404739751064055),\n",
       " ('22838', 1.1351098973040905),\n",
       " ('22783', 1.4160099714376417),\n",
       " ('35004C', 3.4488662789288487),\n",
       " ('82484', 5.7159443810870973),\n",
       " ('84755', 117.55191749667722),\n",
       " ('22464', 5.9698700667243143),\n",
       " ('21324', 0.16372532311722335),\n",
       " ('22457', 8.6641168203035335),\n",
       " ('22469', 113.34577191542344),\n",
       " ('22470', 114.450716196958),\n",
       " ('22224', 1.2732434471662495),\n",
       " ('21340', 1.9371068476651314),\n",
       " ('22189', 7.4235333060176121),\n",
       " ('22427', 5.2010486913094924),\n",
       " ('22428', 0.68198867796627094),\n",
       " ('22424', 0.68712978710795225),\n",
       " ('22663', 4.6489492524954548),\n",
       " ('85049A', 2.7356707018330471),\n",
       " ('22168', 0.48677738111934993),\n",
       " ('22662', 5.0048107412101279),\n",
       " ('84880', 2.825663077463755),\n",
       " ('85099B', 25.255088885516159),\n",
       " ('79321', 45.191999048681119),\n",
       " ('22780', 6.3514337896643882),\n",
       " ('22779', 8.1102675419950998),\n",
       " ('22466', 14.065713919805839),\n",
       " ('21363', 1.185807466939486),\n",
       " ('21411', 1.4744320170050993),\n",
       " ('22318', 0.9715557909840089),\n",
       " ('22915', 10.071436921356389),\n",
       " ('22922', 23.08970841947869),\n",
       " ('22969', 19.920669974912972),\n",
       " ('22923', 6.0628441344373076),\n",
       " ('21115', 2.0641137206570082),\n",
       " ('22242', 22.816815315437008),\n",
       " ('22941', 2.8708477206796825),\n",
       " ('21622', 10.520668459391596),\n",
       " ('35004G', 3.6379244057223046),\n",
       " ('85014B', 16.147535944431961),\n",
       " ('85014A', 3.3181147890655334),\n",
       " ('22193', 2.2519631711384944),\n",
       " ('22192', 1.3823478149962531),\n",
       " ('22191', 3.2790650619368611),\n",
       " ('22195', 13.584256047500919),\n",
       " ('22196', 14.708850861483754),\n",
       " ('22962', 25.505851770996689),\n",
       " ('22963', 4.843878811810594),\n",
       " ('22968', 3.0651777592707403),\n",
       " ('84970S', 14.823956698440265),\n",
       " ('22910', 15.836126576264565),\n",
       " ('20668', 62.214752315326777),\n",
       " ('22197', 77.327878946406216),\n",
       " ('22198', 33.49963136298306),\n",
       " ('21080', 9.5505382137578376),\n",
       " ('21086', 11.844519108818121),\n",
       " ('21786', 1.7632392606468876),\n",
       " ('22654', 7.840997300720435),\n",
       " ('21485', 6.9265948247130851),\n",
       " ('84030E', 2.8636616256177176),\n",
       " ('22174', 39.707628504991419),\n",
       " ('22556', 9.0268227340335478),\n",
       " ('21984', 3.7051253348639102),\n",
       " ('21983', 22.600857522793618),\n",
       " ('21980', 4.4001743531539743),\n",
       " ('21484', 11.449695173262658),\n",
       " ('22557', 12.232443948584988),\n",
       " ('22553', 3.0896589473949576),\n",
       " ('22150', 3.3674664106320842),\n",
       " ('22619', 3.6841307443236637),\n",
       " ('21891', 5.9368421919838292),\n",
       " ('21889', 5.5518165779573909),\n",
       " ('22827', 0.15282740761038804),\n",
       " ('22127', 17.714048267685179),\n",
       " ('22128', 14.899394541222382),\n",
       " ('22502', 36.005781047968881),\n",
       " ('22338', 38.565943356302093),\n",
       " ('22180', 1.1879318167792021),\n",
       " ('21506', 6.7183434280949914),\n",
       " ('22866', 30.125596476045573),\n",
       " ('22865', 8.9549279914750866),\n",
       " ('22349', 3.5270295935252527),\n",
       " ('22558', 5.8499285517557658),\n",
       " ('85152', 50.069694710140517),\n",
       " ('22652', 15.041656573944394),\n",
       " ('22188', 6.871058692470819),\n",
       " ('21314', 4.6687874414148949),\n",
       " ('22730', 4.0573480511843929),\n",
       " ('22729', 5.6634091542443885),\n",
       " ('22867', 8.022543014450088),\n",
       " ('22803', 0.35845772043070351),\n",
       " ('35004B', 1.8972346364055004),\n",
       " ('21844', 3.8715642557249983),\n",
       " ('22468', 0.77611824639104787),\n",
       " ('48185', 122.45830767224699),\n",
       " ('21232', 11.121156059133529),\n",
       " ('22064', 2.860524241241007),\n",
       " ('22449', 3.5715635453757395),\n",
       " ('22835', 4.1526401674904649),\n",
       " ('22112', 6.8624285460152175),\n",
       " ('21479', 25.728136496838932),\n",
       " ('22111', 15.914475427930901),\n",
       " ('22110', 1.8312056591855748),\n",
       " ('22098', 2.6584899233482298),\n",
       " ('22100', 2.0440020509640893),\n",
       " ('22766', 14.492859547464052),\n",
       " ('22451', 8.7391079054911707),\n",
       " ('22549', 5.0438308921540154),\n",
       " ('84744', 4.1135858557713902),\n",
       " ('85049E', 3.5304187685418302),\n",
       " ('21328', 1.7055548378607233),\n",
       " ('17091A', 22.613177074309625),\n",
       " ('22473', 3.7066113762221735),\n",
       " ('84509A', 1.3296044210062188),\n",
       " ('84510A', 1.2701309308561373),\n",
       " ('22767', 1.25233708749886),\n",
       " ('22768', 1.2025238704320409),\n",
       " ('21463', 3.22265760926147),\n",
       " ('21464', 3.9940563054481117),\n",
       " ('20820', 0.09584006025432773),\n",
       " ('85150', 22.621671709355287),\n",
       " ('22117', 82.337568806218883),\n",
       " ('48129', 10.530729706060217),\n",
       " ('82580', 61.500878282235995),\n",
       " ('82578', 2.5983371091870238),\n",
       " ('82581', 5.0446997685992203),\n",
       " ('22413', 3.7805363523914242),\n",
       " ('21907', 3.2010899883995436),\n",
       " ('22441', 2.5312265290786176),\n",
       " ('21122', 3.7105656551354),\n",
       " ('22851', 5.4052929435244321),\n",
       " ('22810', 1.9868144482121695),\n",
       " ('22809', 2.748567900691202),\n",
       " ('22435', 3.2080257219528758),\n",
       " ('20966', 4.8312287343548768),\n",
       " ('20963', 1.399001351668459),\n",
       " ('20961', 3.3022432898728078),\n",
       " ('22068', 2.90373916195718),\n",
       " ('21743', 4.4198640800143716),\n",
       " ('21744', 3.2795659647235187),\n",
       " ('84709B', 0.18037281789768694),\n",
       " ('21592', 2.9000689179837651),\n",
       " ('21587', 1.599764971427146),\n",
       " ('20992', 2.772774549427429),\n",
       " ('22804', 2.3222379604503822),\n",
       " ('20749', 2.856579564294722),\n",
       " ('22382', 2.7474791061434156),\n",
       " ('20726', 5.5489140454767014),\n",
       " ('22384', 2.1449614194057864),\n",
       " ('22467', 33.952885712953801),\n",
       " ('84625C', 19.176495211276613),\n",
       " ('84625A', 4.542953633136146),\n",
       " ('21108', 361.83438192572157),\n",
       " ('22848', 0.88939929485021563),\n",
       " ('47570B', 0.66458307658457461),\n",
       " ('22837', 63.119413221788783),\n",
       " ('22297', 43.68037675506887),\n",
       " ('22772', 9.460629069485913),\n",
       " ('22773', 35.907843737031939),\n",
       " ('22805', 2.1950270493138917),\n",
       " ('21125', 3.4972715648480155),\n",
       " ('21126', 0.65649072377539008),\n",
       " ('85049C', 5.6559683540441696),\n",
       " ('85049D', 0.9476086410579736),\n",
       " ('85049G', 2.2627628769499366),\n",
       " ('21061', 1.0843939368994524),\n",
       " ('21063', 1.9877225032453651),\n",
       " ('21062', 1.4472789482222175),\n",
       " ('84380', 11.261012169441397),\n",
       " ('84378', 9.6746543391943316),\n",
       " ('22964', 4.3777371868490853),\n",
       " ('21213', 67.044059859045262),\n",
       " ('22417', 10.833053295421815),\n",
       " ('84992', 38.756616997105226),\n",
       " ('22383', 6.3899849638262936),\n",
       " ('20728', 4.7016577510376845),\n",
       " ('20727', 11.51034860788817),\n",
       " ('22296', 29.717977984313293),\n",
       " ('20914', 7.9840056600269635),\n",
       " ('22537', 3.6448015990987859),\n",
       " ('22533', 4.516999210369832),\n",
       " ('20982', 3.2308460373169958),\n",
       " ('21915', 19.305775859808534),\n",
       " ('21914', 5.6685625064279659),\n",
       " ('21544', 2.9963689594748568),\n",
       " ('22813', 4.8873570957802261),\n",
       " ('84375', 4.4681379520582043),\n",
       " ('22418', 10.187633944677833),\n",
       " ('22178', 11.108114872864801),\n",
       " ('84970L', 46.74109813861395),\n",
       " ('22465', 5.6491555053293707),\n",
       " ('84949', 19.261357639966004),\n",
       " ('20685', 2.2155178937433315),\n",
       " ('48194', 4.0233923541330423),\n",
       " ('22488', 20.435868958926665),\n",
       " ('22219', 25.47061275644295),\n",
       " ('22610', 36.32458245904197),\n",
       " ('22716', 5.8342793877095618),\n",
       " ('22706', 9.9297838049855649),\n",
       " ('22371', 2.8644865006146998),\n",
       " ('21210', 11.247776133271488),\n",
       " ('16237', 6.193677594281465),\n",
       " ('22714', 33.319175640071627),\n",
       " ('22812', 7.9157921021621336),\n",
       " ('84347', 36.303857233242809),\n",
       " ('22736', 5.3416554194133194),\n",
       " ('22620', 4.128442053731372),\n",
       " ('21705', 6.1580757581709458),\n",
       " ('90199C', 0.079910604303366259),\n",
       " ('22785', 0.53497304307000548),\n",
       " ('22975', 2.1408376868459715),\n",
       " ('22972', 1.9373142739780616),\n",
       " ('22568', 16.273698051338116),\n",
       " ('85116', 3.6057560822815025),\n",
       " ('22664', 4.5885660444260825),\n",
       " ('21609', 1.8003935414101759),\n",
       " ('21866', 2.4619592180477352),\n",
       " ('20669', 1.0959521029994492),\n",
       " ('90129F', 0.76648662791327837),\n",
       " ('90210B', 5.936570521495014),\n",
       " ('21955', 6.9319577476831045),\n",
       " ('72802C', 10.025213014069577),\n",
       " ('22109', 2.3081964455596995),\n",
       " ('22531', 17.668211757269972),\n",
       " ('21811', 64.002180318990426),\n",
       " ('22183', 0.51693437389143648),\n",
       " ('21678', 1.1410216056494702),\n",
       " ('21676', 2.096017116614453),\n",
       " ('85169B', 2.2227127360610779),\n",
       " ('16238', 3.8100636695404972),\n",
       " ('84906', 0.41106782015087062),\n",
       " ('21867', 1.1571158898371481),\n",
       " ('22075', 2.1437500619850951),\n",
       " ('21326', 7.9789958468276536),\n",
       " ('21065', 2.3712256179159379),\n",
       " ('22074', 24.249286384174816),\n",
       " ('20713', 40.267669246404807),\n",
       " ('21116', 0.96866311474372213),\n",
       " ('21824', 6.042256663151834),\n",
       " ('21823', 24.056087526350741),\n",
       " ('22153', 15.150013337313862),\n",
       " ('85099F', 32.905579420500167),\n",
       " ('20717', 3.0595828328448857),\n",
       " ('22328', 6.5143038678592822),\n",
       " ('22327', 1.8349588380185033),\n",
       " ('22630', 8.5849541001298757),\n",
       " ('21245', 1.7006139355247627),\n",
       " ('21244', 6.1852379913035023),\n",
       " ('21242', 3.8955406519999372),\n",
       " ('21243', 4.52688759443327),\n",
       " ('22273', 27.36812335443441),\n",
       " ('22940', 3.3916493391411988),\n",
       " ('22759', 6.1194651642739997),\n",
       " ('21880', 8.798466034025072),\n",
       " ('21738', 0.93362251278250641),\n",
       " ('22077', 8.0828435937092245),\n",
       " ('21448', 0.82727546668098073),\n",
       " ('22243', 12.37029113496259),\n",
       " ('22141', 6.5730382597671477),\n",
       " ('22144', 3.6548126682826907),\n",
       " ('21739', 0.69776409975790876),\n",
       " ('22271', 1.8063616736872015),\n",
       " ('22274', 2.489840548402944),\n",
       " ('22751', 1.3632781445652191),\n",
       " ('21034', 1.8322101126902612),\n",
       " ('22570', 75.971387198553188),\n",
       " ('22569', 3.5547647790079111),\n",
       " ('22902', 13.329751919218523),\n",
       " ('21710', 0.66595153334690338),\n",
       " ('21708', 5.0081862537410311),\n",
       " ('21711', 0.53249723558152373),\n",
       " ('22179', 1.4622753488448486),\n",
       " ('21706', 3.1340339692482089),\n",
       " ('85184C', 49.667610594358244),\n",
       " ('22988', 11.367021247772003),\n",
       " ('20750', 5.3599044229052462),\n",
       " ('22952', 43.773436704071969),\n",
       " ('22739', 7.5825656399356802),\n",
       " ('22738', 20.00317257561446),\n",
       " ('22909', 20.024402175119942),\n",
       " ('35591T', 0.028571428571428571),\n",
       " ('22186', 9.1591558211393078),\n",
       " ('22695', 1.4915600592392091),\n",
       " ('22580', 5.894202408639881),\n",
       " ('22147', 11.752738715692223),\n",
       " ('22130', 23.150951284188807),\n",
       " ('22694', 4.1969179193994526),\n",
       " ('21790', 4.1786907406735567),\n",
       " ('22149', 9.0523238096598178),\n",
       " ('22321', 1.5798864674018407),\n",
       " ('22594', 2.1488053036146555),\n",
       " ('22593', 16.323283797838933),\n",
       " ('22595', 117.17274531907849),\n",
       " ('21986', 19.502906817374416),\n",
       " ('22750', 8.1106773837968635),\n",
       " ('22616', 12.294781064423548),\n",
       " ('22775', 21.722444551461081),\n",
       " ('22899', 10.520046477748977),\n",
       " ('22367', 5.2837745419378139),\n",
       " ('22942', 5.1384437952090503),\n",
       " ('21976', 10.888207512465087),\n",
       " ('22951', 6.7447527094316886),\n",
       " ('22834', 199.63286808062131),\n",
       " ('21916', 2.0997955045801575),\n",
       " ('22587', 1.6744846252464369),\n",
       " ('22566', 1.3901879062145042),\n",
       " ('22565', 1.8615583297307947),\n",
       " ('22472', 1.821771674102262),\n",
       " ('22551', 4.4667142506080699),\n",
       " ('22554', 4.7222844974867524),\n",
       " ('22534', 4.7694836875341844),\n",
       " ('22529', 23.004938575890773),\n",
       " ('22530', 9.7936348322075908),\n",
       " ('84032B', 1.9574850699047766),\n",
       " ('85049H', 1.420042819609975),\n",
       " ('22807', 2.5876209858984613),\n",
       " ('21494', 7.2431019763706059),\n",
       " ('22938', 2.1733892402009412),\n",
       " ('21892', 7.2720312431809706),\n",
       " ('21890', 1.7545926040554605),\n",
       " ('21718', 2.9250619595838661),\n",
       " ('21716', 3.2878056684891157),\n",
       " ('21715', 1.5211628510023985),\n",
       " ('22113', 9.0056318668976196),\n",
       " ('22358', 0.55090774665143438),\n",
       " ('22357', 0.6652266618369681),\n",
       " ('22115', 3.8487399450025395),\n",
       " ('21481', 9.0009741041185531),\n",
       " ('22585', 17.788812955366609),\n",
       " ('21556', 5.7344590402367706),\n",
       " ('22645', 8.1549716952516729),\n",
       " ('22650', 2.244903551652456),\n",
       " ('22508', 26.166884663500813),\n",
       " ('22511', 2.6229853174735234),\n",
       " ('22829', 0.59502858736609188),\n",
       " ('21154', 5.3720488527523393),\n",
       " ('17021', 2.1371197509878233),\n",
       " ('22059', 3.1303224868614095),\n",
       " ('84678', 0.45715833056277067),\n",
       " ('85172', 2.2225373284649823),\n",
       " ('22142', 19.423903280659029),\n",
       " ('21591', 4.005215524863444),\n",
       " ('22480', 17.57342505134346),\n",
       " ('22294', 44.093952401233473),\n",
       " ('21156', 4.4538000027676974),\n",
       " ('10133', 7.8553922778090142),\n",
       " ('72800E', 1.3618552868070839),\n",
       " ('84836', 2.8398407936516521),\n",
       " ('20774', 0.27530816647038236),\n",
       " ('20773', 1.3464717153371031),\n",
       " ('20777', 0.82515372936499132),\n",
       " ('16016', 31.588052471860383),\n",
       " ('16014', 55.032796843024769),\n",
       " ('21651', 3.507977860769905),\n",
       " ('22618', 0.40739469560729025),\n",
       " ('21586', 1.6962872712745281),\n",
       " ('22152', 16.898607244754725),\n",
       " ('84754', 3.8134248639634123),\n",
       " ('22670', 3.2617812499459209),\n",
       " ('84849B', 1.2557611096452155),\n",
       " ('22927', 0.74888153259225676),\n",
       " ('22925', 0.77071430354508863),\n",
       " ('21259', 5.381246494416545),\n",
       " ('21257', 1.1214326401584738),\n",
       " ('21121', 16.034560741920483),\n",
       " ('82552', 3.1287316045654578),\n",
       " ('90200B', 0.28014214021098388),\n",
       " ('90059B', 0.51633855900455583),\n",
       " ('90185C', 0.075842221123515893),\n",
       " ('90059E', 0.45307747149897404),\n",
       " ('90059C', 0.41344056845157817),\n",
       " ('90200C', 1.814910450204555),\n",
       " ('90200D', 0.98315610956391686),\n",
       " ('90200A', 0.28877615945918439),\n",
       " ('22737', 3.2389522302603311),\n",
       " ('21260', 1.8707896199717107),\n",
       " ('22744', 1.3627823244499837),\n",
       " ('21985', 13.422289126236196),\n",
       " ('22295', 47.519227704379801),\n",
       " ('16258A', 1.1891403375442628),\n",
       " ('21992', 14.963407314542261),\n",
       " ('21124', 14.879578474073577),\n",
       " ('22735', 5.2870270685079301),\n",
       " ('22945', 8.687452584401175),\n",
       " ('21816', 0.165069494167283),\n",
       " ('21815', 7.852803648357626),\n",
       " ('21814', 0.9331352020700836),\n",
       " ('10125', 42.614959852783379),\n",
       " ('22573', 7.6687451123716865),\n",
       " ('22577', 47.190641124445634),\n",
       " ('22603', 1.4949109598962691),\n",
       " ('20878', None),\n",
       " ('20866', 7.7963665105172009),\n",
       " ('85095', 0.44315855729265091),\n",
       " ('22333', 9.4684446781879483),\n",
       " ('21584', 13.752592645676355),\n",
       " ('22731', 12.304985165204529),\n",
       " ('22956', 3.2995480716668633),\n",
       " ('22582', 3.7053191673467065),\n",
       " ('85231B', 4.1176207006438892),\n",
       " ('85231G', 5.0948470819996432),\n",
       " ('22082', 3.5597493787869463),\n",
       " ('22500', 0.60479155485073199),\n",
       " ('22742', 1.7746704636581054),\n",
       " ('21329', 1.4151387436484262),\n",
       " ('21327', 1.334987713709298),\n",
       " ('48173C', 2.7751575608334265),\n",
       " ('72818', 62.47348854900865),\n",
       " ('22312', 2.4115988467094009),\n",
       " ('21137', 15.870451633731385),\n",
       " ('22041', 4.5429841243452298),\n",
       " ('20979', 7.6020180077947206),\n",
       " ('20977', 2.536681744521708),\n",
       " ('22571', 6.4476262695365731),\n",
       " ('22423', 4.9435582916219829),\n",
       " ('21621', 6.7899283227354932),\n",
       " ('47563A', 0.84201155200454192),\n",
       " ('84558A', 33.402500319451391),\n",
       " ('21577', 0.67749620113148401),\n",
       " ('22087', 3.4948514736436742),\n",
       " ('22651', 25.804887799837612),\n",
       " ('22713', 4.1278423158115656),\n",
       " ('21370', 0.15243746927641347),\n",
       " ('21367', 0.70947285961490736),\n",
       " ('22376', 0.35544039478157247),\n",
       " ('21895', 0.0),\n",
       " ('22372', 0.43645527908373055),\n",
       " ('21190', 22.900307260101567),\n",
       " ('21894', 0.66290440652726834),\n",
       " ('70007', 31.444901518539393),\n",
       " ('46000M', 31.820919615826309),\n",
       " ('22712', 2.9225631362656297),\n",
       " ('22983', 9.469362553461746),\n",
       " ('22024', 8.0907457049262295),\n",
       " ('21488', 0.18877683739490059),\n",
       " ('22895', 8.3463711279095918),\n",
       " ('22784', 12.761144533073759),\n",
       " ('21441', 0.91023223616569426),\n",
       " ('84947', 8.6744872319794517),\n",
       " ('22485', 2.0302890567734684),\n",
       " ('21794', 0.90606927341066423),\n",
       " ('20707', 1.4517184707496291),\n",
       " ('22588', 1.2613301344845864),\n",
       " ('21292', 7.3666233911047181),\n",
       " ('22760', 0.53479285016939249),\n",
       " ('22107', 1.5299502116826067),\n",
       " ('21486', None),\n",
       " ('22151', 12.763572056131119),\n",
       " ('22643', 1.0680592789133123),\n",
       " ('22642', 2.6904423198935037),\n",
       " ('22604', 18.015628019580145),\n",
       " ('22099', 3.0283851346988753),\n",
       " ('22653', 2.8632957619522115),\n",
       " ('22906', 4.2595783317898608),\n",
       " ('22754', 3.0292377847582839),\n",
       " ('22919', 2.8635642015781344),\n",
       " ('22917', 2.7708252334267098),\n",
       " ('22920', 2.0494995078828029),\n",
       " ('22921', 2.679421309760599),\n",
       " ('22918', 2.3044842858957026),\n",
       " ('22916', 2.4727932687903653),\n",
       " ('22575', 1.8141086098316666),\n",
       " ('21804', 1.0054947162891374),\n",
       " ('21588', 1.4088426964891319),\n",
       " ('22955', 24.257629822513348),\n",
       " ('22583', 1.3708473277123696),\n",
       " ('22241', 3.296193922426407),\n",
       " ('22904', 2.6541701616720594),\n",
       " ('22905', 1.6312837523837564),\n",
       " ('22092', 1.2697610882505861),\n",
       " ('22096', 3.930909398054685),\n",
       " ('21358', 3.0572111333270633),\n",
       " ('21123', 10.442456845065758),\n",
       " ('21427', 0.50754932517752338),\n",
       " ('21930', 4.7901222272986352),\n",
       " ('20772', 0.48252087584227532),\n",
       " ('71406C', 0.39708792839547846),\n",
       " ('84985A', 0.14313477457771004),\n",
       " ('20754', 1.7610075198642057),\n",
       " ('84596E', 1.4934701646336477),\n",
       " ('21111', 12.630632192006148),\n",
       " ('22501', 13.182421696930675),\n",
       " ('22854', 2.1802230678592873),\n",
       " ('84997D', 43.877713957292421),\n",
       " ('47599A', 4.8839981816521956),\n",
       " ('47599B', 2.7290229483821222),\n",
       " ('20972', 6.264404255900673),\n",
       " ('21041', 1.0202453890126049),\n",
       " ('21664', 8.8915192158003098),\n",
       " ('22907', 24.810785926877983),\n",
       " ('22776', 1.6681420847741748),\n",
       " ('21810', 11.281436419602301),\n",
       " ('21197', 0.85857631330348894),\n",
       " ('85035B', 150.51859362785345),\n",
       " ('84968C', 1.3977246982213505),\n",
       " ('21098', 4.496677050759577),\n",
       " ('21192', 15.857184079355097),\n",
       " ('72800B', 4.5132610630045562),\n",
       " ('84563A', 0.23607728726761751),\n",
       " ('47504H', 2.0820092710518123),\n",
       " ('21742', 0.6516558279203416),\n",
       " ('22481', 1.3334842068526798),\n",
       " ('22943', 22.097032676913859),\n",
       " ('22699', 2.9339331665462272),\n",
       " ('22217', 23.713537201014017),\n",
       " ('22227', 2.9910595282164549),\n",
       " ('21106', 1.1107669707988186),\n",
       " ('21107', 8.8863903452489836),\n",
       " ('22697', 2.4460039791751353),\n",
       " ('21826', 0.41763022925608584),\n",
       " ('22548', 8.7617153900561213),\n",
       " ('17164B', 0.3438648765557128),\n",
       " ('22429', 2.8002605824743481),\n",
       " ('20974', 12.181814379275549),\n",
       " ('20973', 7.8050462724613849),\n",
       " ('15044B', 1.483296427708648),\n",
       " ('21135', 2.0675736294948592),\n",
       " ('22173', 3.6631913708322017),\n",
       " ('22626', 2.1822086462453627),\n",
       " ('22625', 2.0944725618202469),\n",
       " ('22624', 3.0135311091289636),\n",
       " ('84945', 24.002651687207941),\n",
       " ('22244', 5.3512038378972306),\n",
       " ('47421', 93.715400594247711),\n",
       " ('20712', 53.1301386905117),\n",
       " ('22973', 2.4591035668683316),\n",
       " ('84569B', 0.85489107357739447),\n",
       " ('22815', 3.3335163231458882),\n",
       " ('85114B', 2.2538668340958776),\n",
       " ('22584', 3.8748307259887165),\n",
       " ('22454', 4.2740562735671297),\n",
       " ('85114C', 1.4182774436527417),\n",
       " ('22974', 17.121703054976788),\n",
       " ('21452', 1.6750996578180839),\n",
       " ('22743', 2.1764468662530425),\n",
       " ('22911', 0.85617615911671663),\n",
       " ('22453', 0.69760261517411859),\n",
       " ('22445', 10.307715388858949),\n",
       " ('22607', 13.899279046680565),\n",
       " ('22635', 2.0519981648756516),\n",
       " ('22634', 3.0802605220536132),\n",
       " ('22222', 13.511998239914949),\n",
       " ('22947', 3.7279599686528675),\n",
       " ('22187', 12.316169896263517),\n",
       " ('22164', 0.49009004260650013),\n",
       " ('72598', 2.1376205660942955),\n",
       " ('22627', 1.1670608494239003),\n",
       " ('22487', 1.1781683354052424),\n",
       " ('22360', 1.4412080006178467),\n",
       " ('22364', 11.514685458683461),\n",
       " ('21657', 0.20303446706172959),\n",
       " ('22120', 1.302566185086651),\n",
       " ('21038', 4.5622064024483295),\n",
       " ('21625', 0.86865405048320199),\n",
       " ('22097', 4.0966397460459225),\n",
       " ('21179', 3.9917173051729202),\n",
       " ('22185', 1.7389417041898276),\n",
       " ('21662', 17.837502524657019),\n",
       " ('85104', 4.9651977481305662),\n",
       " ('21654', 3.4836178776434736),\n",
       " ('21658', 8.4226712846348022),\n",
       " ('21519', 10.852723253845335),\n",
       " ('22819', 9.2493183731293485),\n",
       " ('22704', 7.0925157589402383),\n",
       " ('21498', 10.563933715780774),\n",
       " ('22049', 41.249997115380197),\n",
       " ('21497', 18.483665097572725),\n",
       " ('21333', 1.8224530396503558),\n",
       " ('22194', 1.2527775961126602),\n",
       " ('22688', 5.6190684851808106),\n",
       " ('84692', 7.5689795260915309),\n",
       " ('22444', 4.3799874905473324),\n",
       " ('22555', 4.1615977352327258),\n",
       " ('22547', 1.485878208876138),\n",
       " ('22543', 8.3324605896772592),\n",
       " ('22539', 4.3573030552596279),\n",
       " ('22561', 7.8556821562079984),\n",
       " ('22489', 8.7389261106482561),\n",
       " ('22814', 9.9042525342430245),\n",
       " ('21520', 16.292506182496556),\n",
       " ('21982', 7.5917083191208228),\n",
       " ('21981', 6.6878022410479474),\n",
       " ('21967', 9.883265594804012),\n",
       " ('22615', 20.309016164496562),\n",
       " ('22614', 12.167238532974499),\n",
       " ('22095', 2.6968625428907802),\n",
       " ('22094', 4.446999484636657),\n",
       " ('22966', 11.559416773401406),\n",
       " ('21874', 3.4614426824854978),\n",
       " ('21873', 13.489595751244943),\n",
       " ('21870', 33.689171837372129),\n",
       " ('84050', 6.7186859966226287),\n",
       " ('22315', 18.974494060889914),\n",
       " ('22667', 3.1729993048456442),\n",
       " ('22666', 7.7772016604005278),\n",
       " ('22665', 15.785584519664882),\n",
       " ('22567', 15.904727254796475),\n",
       " ('82600', 26.181199008074859),\n",
       " ('22842', 1.4027921527334026),\n",
       " ('22494', 0.97365224419008456),\n",
       " ('22740', 150.49452253437858),\n",
       " ('22825', 0.19592792275419274),\n",
       " ('22680', 1.2070359041082515),\n",
       " ('22797', 0.95931544898947341),\n",
       " ('21843', 1.2799119678916997),\n",
       " ('22118', 0.86261095605726834),\n",
       " ('22121', 0.93264660114183306),\n",
       " ('22119', 0.65935810923601201),\n",
       " ('22311', 1.9605949863211505),\n",
       " ('72817', 18.436453130318824),\n",
       " ('22277', 1.4919038455366138),\n",
       " ('20867', 1.5030370060743392),\n",
       " ('21688', 0.84142438499627126),\n",
       " ('21694', 0.98509464542488556),\n",
       " ('22800', 12.220844708882357),\n",
       " ('22801', 1.1324519391755639),\n",
       " ('22781', 1.0078399079711238),\n",
       " ('21466', 2.5728933242899683),\n",
       " ('21467', 1.02922840359011),\n",
       " ('21471', 29.190179179232853),\n",
       " ('21469', 3.6183810283225508),\n",
       " ('21524', 5.3097655948871125),\n",
       " ('22791', 60.398270314950629),\n",
       " ('21690', 0.29014254740379597),\n",
       " ('37343', 0.64786608811611501),\n",
       " ('22088', 5.2009391266557401),\n",
       " ('21143', 4.1521356323073304),\n",
       " ('84944', 1.5809540539712321),\n",
       " ('22601', 4.1420598009123486),\n",
       " ('22600', 15.549287460056336),\n",
       " ('22574', 9.1832308982642576),\n",
       " ('85199L', 4.6261201797336255),\n",
       " ('85199S', 3.8445032873424485),\n",
       " ('72741', 6.7941304134176903),\n",
       " ('37495', 5.7356666119751001),\n",
       " ('22171', 3.9656630420704224),\n",
       " ('85067', 0.01686004325519528),\n",
       " ('48184', 10.663934568093303),\n",
       " ('48138', 9.9949216253802664),\n",
       " ('85019A', 1.2088929480262105),\n",
       " ('85019C', 0.3973062826418447),\n",
       " ('20902', 0.45160788860214923),\n",
       " ('21429', 3.5897402623166399),\n",
       " ('85071A', 2.8276570989067031),\n",
       " ('85071C', 9.3691842799968335),\n",
       " ('22355', 20.325575857031357),\n",
       " ('21579', 0.62120536837959617),\n",
       " ('21576', 1.0513285754241086),\n",
       " ('22493', 5.5808163300367495),\n",
       " ('21833', 4.7115145347549765),\n",
       " ('85135B', 10.65184251949484),\n",
       " ('85136A', 0.56004800123709453),\n",
       " ('85136C', 0.47883379944111187),\n",
       " ('21055', 0.94637982750362926),\n",
       " ('21056', 0.47430081481545711),\n",
       " ('C2', 8.194030953362379),\n",
       " ('21928', 8.6689421647948759),\n",
       " ('20711', 28.706792694977494),\n",
       " ('21773', 5.3351233852712125),\n",
       " ('21774', 6.6305129037994206),\n",
       " ('21787', 27.171045835718772),\n",
       " ('21801', 14.070542516889381),\n",
       " ('21802', 117.77918948945258),\n",
       " ('21803', 15.201836343119616),\n",
       " ('21809', 4.5314844188376266),\n",
       " ('21821', 0.64246676389173318),\n",
       " ('21822', 1.7928156824158716),\n",
       " ('21851', 9.3995143931990128),\n",
       " ('21879', 10.417367481909151),\n",
       " ('21884', 5.6972853691853835),\n",
       " ('21888', 6.9157920560697326),\n",
       " ('21911', 0.22199014483631793),\n",
       " ('21922', 2.8429163355386784),\n",
       " ('21935', 1.8399809271334453),\n",
       " ('21942', 2.2866404632184341),\n",
       " ('21944', 0.91666816720442446),\n",
       " ('21949', 8.221633114587231),\n",
       " ('21990', 6.4448032283548704),\n",
       " ('21991', 0.84352464777097225),\n",
       " ('21993', 1.7671207174764643),\n",
       " ('22037', 12.908613487394062),\n",
       " ('22043', 1.6086647414547932),\n",
       " ('22065', 91.056395801975512),\n",
       " ('22067', 1.5864762167623951),\n",
       " ('22069', 2.1052954874532182),\n",
       " ('22071', 1.2202553199193238),\n",
       " ('22076', 2.0736222652001812),\n",
       " ('22080', 2.0236914292559289),\n",
       " ('22081', 2.0288373751228748),\n",
       " ('22090', 11.871601045780341),\n",
       " ('22134', 1.3170652167619727),\n",
       " ('22135', 1.107704596346486),\n",
       " ('22154', 10.835960019817872),\n",
       " ('22155', 5.8367622796449314),\n",
       " ('22156', 26.624912801194977),\n",
       " ('22161', 13.726884787997831),\n",
       " ('22162', 1.8987087944307612),\n",
       " ('22169', 4.5775500717667992),\n",
       " ('22182', 2.3390072423287309),\n",
       " ('22190', 3.0107494886425972),\n",
       " ('22203', 1.0644253976873905),\n",
       " ('22207', 1.2010163471162505),\n",
       " ('22265', 4.29705365318764),\n",
       " ('22276', 0.66118135369054398),\n",
       " ('22299', 9.1126145964862637),\n",
       " ('22300', 2.8589664692503027),\n",
       " ('22301', 7.8594255689094563),\n",
       " ('22309', 1.1033684770994734),\n",
       " ('22314', 2.4725858600066388),\n",
       " ('22335', 23.438574503958229),\n",
       " ('22336', 38.086880752936786),\n",
       " ('22345', 6.4344722229986271),\n",
       " ('22348', 7.6507877906200887),\n",
       " ('22356', 8.4433165403371699),\n",
       " ('22359', 0.38987502979155464),\n",
       " ('22361', 1.8530592316526857),\n",
       " ('22375', 1.8665659104084535),\n",
       " ('22378', 6.0507921606470259),\n",
       " ('22380', 1.7925135775295784),\n",
       " ('22394', 2.9876477156917596),\n",
       " ('22396', 46.224037166107195),\n",
       " ('22419', 3.9779908045745986),\n",
       " ('22422', 1.8451590945656351),\n",
       " ('22430', 6.0742388461547456),\n",
       " ('22432', 4.2549444080872405),\n",
       " ('22437', 3.8679052697368168),\n",
       " ('22471', 1.1980494875672203),\n",
       " ('22476', 3.471414983938427),\n",
       " ('22477', 4.2141029047813605),\n",
       " ('22478', 5.3012405171917898),\n",
       " ('22479', 7.5396757028854839),\n",
       " ('22497', 0.44071989198155331),\n",
       " ('22515', 0.47787469094710133),\n",
       " ('22517', 0.66486063172230947),\n",
       " ('22519', 1.0233356304028463),\n",
       " ('22545', 24.435070053619963),\n",
       " ('22550', 7.9731723707317457),\n",
       " ('22560', 10.996261110086401),\n",
       " ('22589', 0.67083244009237597),\n",
       " ('22605', 6.9536885006933549),\n",
       " ('22639', 12.44473304094404),\n",
       " ('22669', 1.7241805285951741),\n",
       " ('22675', 3.4745972667276659),\n",
       " ('22734', 13.767611991277047),\n",
       " ('22741', 7.7765098202459395),\n",
       " ('22755', 1.3451146369421576),\n",
       " ('22757', 11.92086206298239),\n",
       " ('22758', 12.953100386568643),\n",
       " ('22769', 0.09917847626574057),\n",
       " ('22792', 26.805236291615564),\n",
       " ('22816', 7.4483026066565472),\n",
       " ('22818', 10.37610245963304),\n",
       " ('22822', 0.96238796591208309),\n",
       " ('22844', 0.95677783674556249),\n",
       " ('22847', 5.3483961363401713),\n",
       " ('22862', 2.762251357814304),\n",
       " ('22876', 1.1060859374890248),\n",
       " ('22928', 1.2585422741551522),\n",
       " ('22948', 1.984063927362381),\n",
       " ('22949', 4.3774157568257595),\n",
       " ('22976', 2.0252353133748544),\n",
       " ('35095A', 3.7813031804452875),\n",
       " ('35095B', 4.8640069978045641),\n",
       " ('35471D', 2.1565422399674121),\n",
       " ('35598D', 11.731380993210495),\n",
       " ('35599D', 2.7263342723733595),\n",
       " ('35610A', 0.27259417579202577),\n",
       " ('35818P', 0.68631262224676925),\n",
       " ('35957', 8.8509723435583556),\n",
       " ('35961', 12.734055419528962),\n",
       " ('35971', 2.1464435549954017),\n",
       " ('37449', 2.4215023767880393),\n",
       " ('37476', 0.43974791105060018),\n",
       " ('47559B', 2.1488683380716709),\n",
       " ('47591B', 1.159756116841409),\n",
       " ('47591D', 3.5209289455159003),\n",
       " ('47593B', 1.7363255370689796),\n",
       " ('48188', 3.329097858721958),\n",
       " ('71459', 30.758164591901583),\n",
       " ('72586', 20.662152299323537),\n",
       " ('72799E', 2.3280897366420064),\n",
       " ('72799F', 0.45484017797948373),\n",
       " ('72807A', 1.1762569342028621),\n",
       " ('72807B', 2.2853408875750443),\n",
       " ('72807C', 1.7680459494089591),\n",
       " ('72816', 6.1953771616900619),\n",
       " ('79030D', 1.8404653893519054),\n",
       " ('79030G', 6.6677811347190294),\n",
       " ('82551', 4.3530939243392055),\n",
       " ('82583', 5.3606625133388164),\n",
       " ('82613B', 5.1693556777655143),\n",
       " ('82613C', 3.2115977024873787),\n",
       " ('82613D', 4.4432747205076293),\n",
       " ('84031A', 1.371553599457878),\n",
       " ('84031B', 1.0480268618308506),\n",
       " ('84032A', 2.1189819416860409),\n",
       " ('84086C', 0.41893322563502061),\n",
       " ('84279P', 1.4026429883140319),\n",
       " ('85015', 7.1513876858831065),\n",
       " ('85016', 4.500527801780831),\n",
       " ('85017A', 0.056748272167855579),\n",
       " ('85017B', 10.98660330796694),\n",
       " ('85032D', 2.8224685685654194),\n",
       " ('85039A', 1.4757195985515519),\n",
       " ('85048', 2.5526038255099097),\n",
       " ('85064', 0.30917481100289168),\n",
       " ('85127', 1.0812272354144083),\n",
       " ('85129D', 0.5076648156375464),\n",
       " ('85131B', 1.0665597014390815),\n",
       " ('85132A', 1.7704445898517305),\n",
       " ('85135C', 2.8054521224616873),\n",
       " ('85176', 1.4029499211275951),\n",
       " ('85177', 87.575080373513131),\n",
       " ('85178', 7.2531939423941667),\n",
       " ('85186A', 1.5091766452069686),\n",
       " ('85232B', 0.048701298701298704),\n",
       " ('90003C', 0.44627813769265512),\n",
       " ('90018A', 0.6349459097039617),\n",
       " ('90022', 0.82315675991488146),\n",
       " ('90071', 0.22930631291654885),\n",
       " ('90099', 0.11409902703747427),\n",
       " ('90116', 0.35338377255869707),\n",
       " ('90120C', 0.12834423819188717),\n",
       " ('90129A', 4.4730067961490434),\n",
       " ('90129B', 0.29412359474326238),\n",
       " ('90161A', 1.2791611422482305),\n",
       " ('90190C', 1.3869393183157639),\n",
       " ('90194', 0.070266525883592598),\n",
       " ('90209B', 0.82336673365915403),\n",
       " ('90214D', 0.26257656642638322),\n",
       " ('90214G', 0.27833611173632966),\n",
       " ('90214H', 0.26488297407291966),\n",
       " ('90214J', 1.0609805677741149),\n",
       " ('90214R', 0.12794852407366644),\n",
       " ('DOT', 3.9063844650266342),\n",
       " ('84534B', 0.082678774157182083),\n",
       " ('84535B', 4.3722075993097187),\n",
       " ('84536A', 1.5301237486452575),\n",
       " ('84536B', 5.2956085587448918),\n",
       " ('84580', 2.1306857698777546),\n",
       " ('84581', 0.45151757584240954),\n",
       " ('84598', 2.6129448458873914),\n",
       " ('84912B', 0.9227256695424334),\n",
       " ('84913A', 3.2537997066872393),\n",
       " ('84913B', 0.44398881549244462),\n",
       " ('84923', 0.58473245195295209),\n",
       " ('84946', 12.602027642757266),\n",
       " ('84988', 21.086310119182372),\n",
       " ('20856', 0.49256928015913143),\n",
       " ('20854', 3.0336394293159019),\n",
       " ('21218', 29.136497565970775),\n",
       " ('22845', 5.6401743929017165),\n",
       " ('11001', 2.2215659884673764),\n",
       " ('16236', 2.2712138092763183),\n",
       " ('17003', 60.756608078024819),\n",
       " ('17011F', 3.2737850183032666),\n",
       " ('17012A', 1.8387560317207781),\n",
       " ('17012B', 1.9196502250493375),\n",
       " ('17012C', 6.8371238385653355),\n",
       " ('17012D', 0.93218697742545975),\n",
       " ('17012E', 0.79048465757090458),\n",
       " ('17012F', 2.4145322396190356),\n",
       " ('17129F', 2.454536375691879),\n",
       " ('18098C', 33.318969580424579),\n",
       " ('20622', 2.3995988209795507),\n",
       " ('20658', 1.1494175453191517),\n",
       " ('20662', 0.37404529153757932),\n",
       " ('20676', 81.644155128539708),\n",
       " ('20684', 0.16427427752064569),\n",
       " ('20719', 11.770279550826162),\n",
       " ('20724', 15.817584040290933),\n",
       " ('20733', 15.671424247962216),\n",
       " ('20735', 9.848361474776361),\n",
       " ('20770', 0.51822077365231145),\n",
       " ('20835', 0.22092997075484333),\n",
       " ('20839', 1.148463990996935),\n",
       " ('20840', 16.25173656528116),\n",
       " ('20956', 1.3548427754530452),\n",
       " ('20969', 3.0032483048469545),\n",
       " ('20971', 53.462591779313342),\n",
       " ('20975', 4.4022186778519217),\n",
       " ('20981', 1.8299273996345178),\n",
       " ...]"
      ]
     },
     "execution_count": 125,
     "metadata": {},
     "output_type": "execute_result"
    }
   ],
   "source": [
    "errors"
   ]
  },
  {
   "cell_type": "code",
   "execution_count": 126,
   "metadata": {},
   "outputs": [
    {
     "name": "stdout",
     "output_type": "stream",
     "text": [
      "min value = 0.0\n",
      "max value = 1872.20679427\n",
      "avg value = 9.30450912443\n",
      "none count = 259\n"
     ]
    }
   ],
   "source": [
    "result_analysis(errors)"
   ]
  },
  {
   "cell_type": "code",
   "execution_count": null,
   "metadata": {
    "collapsed": true
   },
   "outputs": [],
   "source": []
  }
 ],
 "metadata": {
  "kernelspec": {
   "display_name": "Python 3",
   "language": "python",
   "name": "python3"
  },
  "language_info": {
   "codemirror_mode": {
    "name": "ipython",
    "version": 3
   },
   "file_extension": ".py",
   "mimetype": "text/x-python",
   "name": "python",
   "nbconvert_exporter": "python",
   "pygments_lexer": "ipython3",
   "version": "3.5.3"
  }
 },
 "nbformat": 4,
 "nbformat_minor": 2
}
