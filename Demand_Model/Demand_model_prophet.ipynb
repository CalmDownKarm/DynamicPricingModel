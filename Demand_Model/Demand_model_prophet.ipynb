{
 "cells": [
  {
   "cell_type": "code",
   "execution_count": 3,
   "metadata": {
    "collapsed": true
   },
   "outputs": [],
   "source": [
    "# %matplotlib inline\n",
    "import pandas as pd\n",
    "from fbprophet import Prophet\n",
    "import numpy as np\n",
    "from sklearn.metrics import mean_squared_error\n",
    "\n",
    "import matplotlib.pyplot as plt\n",
    "from matplotlib.pylab import rcParams\n",
    "rcParams['figure.figsize'] = 15, 6\n",
    "plt.style.use('fivethirtyeight')"
   ]
  },
  {
   "cell_type": "code",
   "execution_count": 4,
   "metadata": {},
   "outputs": [
    {
     "data": {
      "text/html": [
       "<div>\n",
       "<style>\n",
       "    .dataframe thead tr:only-child th {\n",
       "        text-align: right;\n",
       "    }\n",
       "\n",
       "    .dataframe thead th {\n",
       "        text-align: left;\n",
       "    }\n",
       "\n",
       "    .dataframe tbody tr th {\n",
       "        vertical-align: top;\n",
       "    }\n",
       "</style>\n",
       "<table border=\"1\" class=\"dataframe\">\n",
       "  <thead>\n",
       "    <tr style=\"text-align: right;\">\n",
       "      <th></th>\n",
       "      <th>InvoiceNo</th>\n",
       "      <th>StockCode</th>\n",
       "      <th>Description</th>\n",
       "      <th>Quantity</th>\n",
       "      <th>InvoiceDate</th>\n",
       "      <th>UnitPrice</th>\n",
       "      <th>CustomerID</th>\n",
       "      <th>Country</th>\n",
       "    </tr>\n",
       "  </thead>\n",
       "  <tbody>\n",
       "    <tr>\n",
       "      <th>0</th>\n",
       "      <td>536365</td>\n",
       "      <td>85123A</td>\n",
       "      <td>WHITE HANGING HEART T-LIGHT HOLDER</td>\n",
       "      <td>6</td>\n",
       "      <td>01/12/10 08:26</td>\n",
       "      <td>2.55</td>\n",
       "      <td>17850.0</td>\n",
       "      <td>United Kingdom</td>\n",
       "    </tr>\n",
       "    <tr>\n",
       "      <th>1</th>\n",
       "      <td>536365</td>\n",
       "      <td>71053</td>\n",
       "      <td>WHITE METAL LANTERN</td>\n",
       "      <td>6</td>\n",
       "      <td>01/12/10 08:26</td>\n",
       "      <td>3.39</td>\n",
       "      <td>17850.0</td>\n",
       "      <td>United Kingdom</td>\n",
       "    </tr>\n",
       "    <tr>\n",
       "      <th>2</th>\n",
       "      <td>536365</td>\n",
       "      <td>84406B</td>\n",
       "      <td>CREAM CUPID HEARTS COAT HANGER</td>\n",
       "      <td>8</td>\n",
       "      <td>01/12/10 08:26</td>\n",
       "      <td>2.75</td>\n",
       "      <td>17850.0</td>\n",
       "      <td>United Kingdom</td>\n",
       "    </tr>\n",
       "    <tr>\n",
       "      <th>3</th>\n",
       "      <td>536365</td>\n",
       "      <td>84029G</td>\n",
       "      <td>KNITTED UNION FLAG HOT WATER BOTTLE</td>\n",
       "      <td>6</td>\n",
       "      <td>01/12/10 08:26</td>\n",
       "      <td>3.39</td>\n",
       "      <td>17850.0</td>\n",
       "      <td>United Kingdom</td>\n",
       "    </tr>\n",
       "    <tr>\n",
       "      <th>4</th>\n",
       "      <td>536365</td>\n",
       "      <td>84029E</td>\n",
       "      <td>RED WOOLLY HOTTIE WHITE HEART.</td>\n",
       "      <td>6</td>\n",
       "      <td>01/12/10 08:26</td>\n",
       "      <td>3.39</td>\n",
       "      <td>17850.0</td>\n",
       "      <td>United Kingdom</td>\n",
       "    </tr>\n",
       "  </tbody>\n",
       "</table>\n",
       "</div>"
      ],
      "text/plain": [
       "  InvoiceNo StockCode                          Description  Quantity  \\\n",
       "0    536365    85123A   WHITE HANGING HEART T-LIGHT HOLDER         6   \n",
       "1    536365     71053                  WHITE METAL LANTERN         6   \n",
       "2    536365    84406B       CREAM CUPID HEARTS COAT HANGER         8   \n",
       "3    536365    84029G  KNITTED UNION FLAG HOT WATER BOTTLE         6   \n",
       "4    536365    84029E       RED WOOLLY HOTTIE WHITE HEART.         6   \n",
       "\n",
       "      InvoiceDate  UnitPrice  CustomerID         Country  \n",
       "0  01/12/10 08:26       2.55     17850.0  United Kingdom  \n",
       "1  01/12/10 08:26       3.39     17850.0  United Kingdom  \n",
       "2  01/12/10 08:26       2.75     17850.0  United Kingdom  \n",
       "3  01/12/10 08:26       3.39     17850.0  United Kingdom  \n",
       "4  01/12/10 08:26       3.39     17850.0  United Kingdom  "
      ]
     },
     "execution_count": 4,
     "metadata": {},
     "output_type": "execute_result"
    }
   ],
   "source": [
    "raw_data = pd.read_csv(\"Online_Retail.csv\")\n",
    "raw_data.head()"
   ]
  },
  {
   "cell_type": "code",
   "execution_count": 5,
   "metadata": {},
   "outputs": [
    {
     "name": "stdout",
     "output_type": "stream",
     "text": [
      "<class 'pandas.core.frame.DataFrame'>\n",
      "RangeIndex: 541909 entries, 0 to 541908\n",
      "Data columns (total 3 columns):\n",
      "StockCode      541909 non-null object\n",
      "Quantity       541909 non-null int64\n",
      "InvoiceDate    541909 non-null datetime64[ns]\n",
      "dtypes: datetime64[ns](1), int64(1), object(1)\n",
      "memory usage: 12.4+ MB\n",
      "None\n"
     ]
    },
    {
     "data": {
      "text/plain": [
       "RangeIndex(start=0, stop=541909, step=1)"
      ]
     },
     "execution_count": 5,
     "metadata": {},
     "output_type": "execute_result"
    }
   ],
   "source": [
    "sales_data = raw_data.drop(['InvoiceNo','Description','CustomerID','Country','UnitPrice'], axis = 1)\n",
    "sales_data['InvoiceDate'] = pd.to_datetime(sales_data['InvoiceDate'])\n",
    "print(sales_data.info())\n",
    "sales_data.index"
   ]
  },
  {
   "cell_type": "code",
   "execution_count": 6,
   "metadata": {
    "collapsed": true
   },
   "outputs": [],
   "source": [
    "stock_codes = list(sales_data.StockCode.unique())"
   ]
  },
  {
   "cell_type": "code",
   "execution_count": 7,
   "metadata": {
    "collapsed": true
   },
   "outputs": [],
   "source": [
    "def extract_product(product_id,freq):\n",
    "    #pull out all transactions of one product and drop StockCode\n",
    "    product = sales_data.loc[sales_data['StockCode'] == product_id].drop('StockCode',axis=1)\n",
    "    product=product.set_index(['InvoiceDate']) #Convert to timeseries \n",
    "\n",
    "    #DownSampling to a day\n",
    "    day_summary = pd.DataFrame()\n",
    "    day_summary['Quantity'] = product.Quantity.resample(freq).sum()\n",
    "    day_summary = day_summary.fillna(0) #replacing NaN with 0\n",
    "    day_summary = day_summary.clip(0) #replace -ve values with 0\n",
    "\n",
    "    day_summary = day_summary['2010-12-12':]#trim as almost no data available before this date\n",
    "    day_summary['Quantity']+=1#ti avoid -inf while taking log transformation \n",
    "#     print(day_summary.describe())\n",
    "    #plot\n",
    "#     fig, ax1 = plt.subplots()\n",
    "#     ax1.plot(day_summary.index, day_summary['Quantity'])\n",
    "#     ax1.set_xlabel('Date')\n",
    "#     ax1.set_ylabel('Quantity')\n",
    "#     # ax1.set_ylim(0,100)\n",
    "#     plt.show()\n",
    "    return day_summary"
   ]
  },
  {
   "cell_type": "code",
   "execution_count": 99,
   "metadata": {
    "collapsed": true
   },
   "outputs": [],
   "source": [
    "def result_analysis(errors):\n",
    "    errors = [value[1] for value in errors]\n",
    "    None_count = errors.count(None)\n",
    "    errors = [x for x in errors if x!=None]\n",
    "    min_value = min(errors)\n",
    "    max_value = max(errors)\n",
    "    avg_value = sum(errors)/len(errors)\n",
    "    print(\"min value = \"+str(min_value))\n",
    "    print(\"max value = \"+str(max_value))\n",
    "    print(\"avg value = \"+str(avg_value))\n",
    "    print(\"none count = \"+str(None_count))\n",
    "#     min_value = float('inf')\n",
    "#     max_value = 0\n",
    "#     None_count = 0\n",
    "#     error_sum = 0\n",
    "#     for pair in errors:\n",
    "#         if pair[1] != None:\n",
    "#             error_sum+=pair[1]\n",
    "#             if pair[1]<min_value:\n",
    "#                 min_value=pair[1]\n",
    "#             if pair[1]>max_value:\n",
    "#                 max_value=pair[1]\n",
    "# #                 print(pair[0])\n",
    "#         else:\n",
    "#             None_count+=1\n",
    "# #     print(max_value)\n",
    "#     return (\"min_value = \"+str(min_value),\"max_value = \"+str(max_value),\"avg value = \"+str(error_sum/len(errors)),\"number of none = \"+str(None_count))"
   ]
  },
  {
   "cell_type": "code",
   "execution_count": 84,
   "metadata": {
    "collapsed": true
   },
   "outputs": [],
   "source": [
    "def get_relative_error(y,yhat):\n",
    "#     error = 0\n",
    "    relative_errors = [(x-y)/x for x,y in zip(y,yhat)]\n",
    "#     print(relative_errors)\n",
    "    root_mean_square_relative_error = np.sqrt(sum([x**2 for x in relative_errors])/len(relative_errors))\n",
    "    return root_mean_square_relative_error"
   ]
  },
  {
   "cell_type": "code",
   "execution_count": 85,
   "metadata": {},
   "outputs": [],
   "source": [
    "# get_relative_error(range(1,11),range(2,12))"
   ]
  },
  {
   "cell_type": "code",
   "execution_count": 96,
   "metadata": {},
   "outputs": [
    {
     "name": "stdout",
     "output_type": "stream",
     "text": [
      " 10"
     ]
    }
   ],
   "source": [
    "errors = list()\n",
    "count =1 \n",
    "for product in stock_codes[:10]:\n",
    "    print('\\r', count, end='')\n",
    "    count+=1\n",
    "    freq = 'D'\n",
    "    try:\n",
    "        day_summary = extract_product(product,freq)\n",
    "        # day_summary.head()\n",
    "        day_summary.reset_index(inplace=True)\n",
    "        day_summary = day_summary.rename(columns={'Quantity': 'y','InvoiceDate': 'ds'})\n",
    "        train,test = day_summary[:int(len(day_summary)*0.9)],day_summary[int(len(day_summary)*0.9):]\n",
    "#         print((len(train),len(test),len(day_summary)))\n",
    "        my_model = Prophet(daily_seasonality=True,yearly_seasonality=True,weekly_seasonality=True)\n",
    "        my_model.fit(train)\n",
    "        future_dates = my_model.make_future_dataframe(periods=len(test),freq=freq)\n",
    "        forecast = my_model.predict(future_dates)\n",
    "        predicted = forecast[['ds', 'yhat']].tail(len(test))\n",
    "#         temp = get_relative_error(test.y,predicted.yhat)\n",
    "#         print(temp)\n",
    "#         errors.append((product,temp))\n",
    "        errors.append((product,get_relative_error(test.y,predicted.yhat)))\n",
    "#         errors.append((product,np.sqrt(mean_squared_error(test.y,predicted.yhat))))\n",
    "\n",
    "    except:\n",
    "        errors.append((product,None))\n",
    "#     print(np.sqrt(mean_squared_error(test.y,predicted.yhat)))\n",
    "#     my_model.plot(forecast,uncertainty=True);\n",
    "#     my_model.plot_components(forecast);\n",
    "    \n",
    "# result_analysis(errors)\n",
    "with open(\"result.txt\", 'w') as file:\n",
    "    for item in errors:\n",
    "        file.write(\"{}\\n\".format(item))\n"
   ]
  },
  {
   "cell_type": "code",
   "execution_count": 97,
   "metadata": {},
   "outputs": [
    {
     "data": {
      "text/plain": [
       "[('85123A', 729.09853469184554),\n",
       " ('71053', 2.7289113803710943),\n",
       " ('84406B', 1.6624599955888035),\n",
       " ('84029G', 10.885120913367652),\n",
       " ('84029E', 58.224569489278004),\n",
       " ('22752', 2.6688672058237937),\n",
       " ('21730', 2.655939136213501),\n",
       " ('22633', 24.59731118763515),\n",
       " ('22632', 12.569819580780807),\n",
       " ('84879', 78.99600508730812)]"
      ]
     },
     "execution_count": 97,
     "metadata": {},
     "output_type": "execute_result"
    }
   ],
   "source": [
    "errors"
   ]
  },
  {
   "cell_type": "code",
   "execution_count": 98,
   "metadata": {},
   "outputs": [
    {
     "data": {
      "text/plain": [
       "('min_value = 1.66245999559',\n",
       " 'max_value = 729.098534692',\n",
       " 'avg value = 92.4087538668',\n",
       " 'number of none = 0')"
      ]
     },
     "execution_count": 98,
     "metadata": {},
     "output_type": "execute_result"
    }
   ],
   "source": [
    "result_analysis(errors)"
   ]
  },
  {
   "cell_type": "code",
   "execution_count": null,
   "metadata": {
    "collapsed": true
   },
   "outputs": [],
   "source": []
  }
 ],
 "metadata": {
  "kernelspec": {
   "display_name": "Python 3",
   "language": "python",
   "name": "python3"
  },
  "language_info": {
   "codemirror_mode": {
    "name": "ipython",
    "version": 3
   },
   "file_extension": ".py",
   "mimetype": "text/x-python",
   "name": "python",
   "nbconvert_exporter": "python",
   "pygments_lexer": "ipython3",
   "version": "3.5.3"
  }
 },
 "nbformat": 4,
 "nbformat_minor": 2
}
